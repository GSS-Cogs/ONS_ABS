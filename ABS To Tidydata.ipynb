{
 "cells": [
  {
   "cell_type": "markdown",
   "metadata": {},
   "source": [
    "###  ABS to Tidydata"
   ]
  },
  {
   "cell_type": "code",
   "execution_count": 1,
   "metadata": {},
   "outputs": [
    {
     "ename": "ModuleNotFoundError",
     "evalue": "No module named 'databaker'",
     "output_type": "error",
     "traceback": [
      "\u001b[0;31m---------------------------------------------------------------------------\u001b[0m",
      "\u001b[0;31mModuleNotFoundError\u001b[0m                       Traceback (most recent call last)",
      "\u001b[0;32m<ipython-input-1-a83fb77bad42>\u001b[0m in \u001b[0;36m<module>\u001b[0;34m()\u001b[0m\n\u001b[0;32m----> 1\u001b[0;31m \u001b[0;32mfrom\u001b[0m \u001b[0mdatabaker\u001b[0m\u001b[0;34m.\u001b[0m\u001b[0mframework\u001b[0m \u001b[0;32mimport\u001b[0m \u001b[0;34m*\u001b[0m\u001b[0;34m\u001b[0m\u001b[0m\n\u001b[0m\u001b[1;32m      2\u001b[0m \u001b[0;32mimport\u001b[0m \u001b[0mpandas\u001b[0m \u001b[0;32mas\u001b[0m \u001b[0mpd\u001b[0m\u001b[0;34m\u001b[0m\u001b[0m\n",
      "\u001b[0;31mModuleNotFoundError\u001b[0m: No module named 'databaker'"
     ]
    }
   ],
   "source": [
    "from databaker.framework import *\n",
    "import pandas as pd "
   ]
  },
  {
   "cell_type": "markdown",
   "metadata": {},
   "source": [
    "ABS Excel spreadsheet is available from [ONS website](https://www.ons.gov.uk/businessindustryandtrade/business/businessservices/datasets/annualbusinesssurveyimportersandexporters)."
   ]
  },
  {
   "cell_type": "code",
   "execution_count": null,
   "metadata": {},
   "outputs": [],
   "source": [
    "import requests\n",
    "from pathlib import Path\n",
    "from io import BytesIO\n",
    "from cachecontrol import CacheControl\n",
    "from cachecontrol.caches.file_cache import FileCache\n",
    "from cachecontrol.heuristics import LastModified\n",
    "\n",
    "session = CacheControl(requests.Session(),\n",
    "                       cache=FileCache('.cache'),\n",
    "                       heuristic=LastModified())\n",
    "\n",
    "sourceFolder = Path('in')\n",
    "sourceFolder.mkdir(exist_ok=True)\n",
    "\n",
    "inputURL = 'https://www.ons.gov.uk/file?uri=/businessindustryandtrade/business/businessservices/datasets/annualbusinesssurveyimportersandexporters/current/importersandexporterssummarytablesinitial.xls'\n",
    "inputFile = sourceFolder / 'importersandexporterssummarytablesinitial.xls'\n",
    "response = session.get(inputURL)\n",
    "with open(inputFile, 'wb') as f:\n",
    "    f.write(response.content)"
   ]
  },
  {
   "cell_type": "code",
   "execution_count": null,
   "metadata": {},
   "outputs": [],
   "source": [
    "Filenames = [\n",
    "    'goods_and_services_provisional_2016',\n",
    "    'goods_provisional_2016',\n",
    "    'services_provisional_2016',\n",
    "    'goods_and_services_revised_2015',\n",
    "    'goods_revised_2015',\n",
    "    'services_revised_2015',\n",
    "    'goods_and_services_revised_final_2014',\n",
    "    'goods_revised_final_2014',\n",
    "    'services_revised_final_2014'\n",
    "]"
   ]
  },
  {
   "cell_type": "code",
   "execution_count": null,
   "metadata": {},
   "outputs": [],
   "source": [
    "Filenames[0][-4:]"
   ]
  },
  {
   "cell_type": "code",
   "execution_count": null,
   "metadata": {},
   "outputs": [],
   "source": [
    "tab_main = loadxlstabs(inputFile)"
   ]
  },
  {
   "cell_type": "code",
   "execution_count": null,
   "metadata": {},
   "outputs": [],
   "source": [
    "def user_perc(x):\n",
    "    \n",
    "    if x.strip() == 'Number':\n",
    "        return 'Count'\n",
    "    else:\n",
    "        return 'Proportion of all Business'"
   ]
  },
  {
   "cell_type": "code",
   "execution_count": null,
   "metadata": {},
   "outputs": [],
   "source": [
    "def user_perc2(x,y):\n",
    "    \n",
    "    if x.strip() == 'Count':\n",
    "        return int(y)\n",
    "    else:\n",
    "        return str(y) "
   ]
  },
  {
   "cell_type": "code",
   "execution_count": null,
   "metadata": {},
   "outputs": [],
   "source": [
    "def user_perc3(x,y):\n",
    "    \n",
    "    if (x.strip() == 'Detailed employment')|(x.strip() == 'Employment'):\n",
    "        return y\n",
    "    else:\n",
    "        return 'Total'"
   ]
  },
  {
   "cell_type": "code",
   "execution_count": null,
   "metadata": {},
   "outputs": [],
   "source": [
    "def user_perc4(x,y):\n",
    "    \n",
    "    if (x.strip() == 'Country of Ownership'):\n",
    "        return y\n",
    "    else:\n",
    "        return 'Total'"
   ]
  },
  {
   "cell_type": "code",
   "execution_count": null,
   "metadata": {},
   "outputs": [],
   "source": [
    "def user_perc5(x,y):\n",
    "    \n",
    "    if (x.strip() == 'Turnover'):\n",
    "        return y\n",
    "    else:\n",
    "        return 'Total'"
   ]
  },
  {
   "cell_type": "code",
   "execution_count": null,
   "metadata": {},
   "outputs": [],
   "source": [
    "def user_perc6(x,y):\n",
    "    \n",
    "    if (x.strip() == 'Age of Business'):\n",
    "        return y\n",
    "    else:\n",
    "        return 'Total'"
   ]
  },
  {
   "cell_type": "code",
   "execution_count": null,
   "metadata": {},
   "outputs": [],
   "source": [
    "def user_perc7(x,y):\n",
    "    \n",
    "    if x.strip() == 'Count':\n",
    "        return y\n",
    "    else:\n",
    "        return 'Percent'"
   ]
  },
  {
   "cell_type": "code",
   "execution_count": null,
   "metadata": {},
   "outputs": [],
   "source": [
    "Final_table = pd.DataFrame()\n",
    "destinationFolder = Path('out')\n",
    "destinationFolder.mkdir(exist_ok=True, parents=True)\n",
    "\n",
    "for sh in list(range(0,9)):\n",
    "    \n",
    "    tab = tab_main[sh+1]\n",
    "    observations = tab.excel_ref('B14').expand(RIGHT).expand(DOWN).is_not_blank()- tab.excel_ref('B70').expand(DOWN)\n",
    "    Trade = tab.excel_ref('B12').expand(RIGHT).is_not_blank()\n",
    "    CET = tab.excel_ref('A').expand(DOWN).by_index([12,26,36,45,61]).is_not_blank()\n",
    "    segments = tab.excel_ref('A').expand(DOWN).is_not_blank()- CET - tab.excel_ref('A70').expand(DOWN)-tab.excel_ref('A10').expand(ABOVE)\n",
    "    measure = tab.excel_ref('B11:F11').expand(RIGHT).is_not_blank()\n",
    "    Dimensions = [\n",
    "                HDimConst('Geography', 'K02000001'),\n",
    "                HDimConst('Year', Filenames[sh][-4:]),\n",
    "                HDim(CET,'CET',CLOSEST,ABOVE),\n",
    "                HDim(measure,'Measure Type', CLOSEST, LEFT), \n",
    "                HDimConst('Unit', 'Businesses'),\n",
    "                HDim(segments,'Statistics', DIRECTLY, LEFT ),\n",
    "                HDim(Trade,'Export and Import Activity',DIRECTLY,ABOVE)\n",
    "\n",
    "    ] \n",
    "    c1 = ConversionSegment(observations, Dimensions, processTIMEUNIT=True)\n",
    "    new_table = c1.topandas()\n",
    "    new_table['Export and Import Activity'] = new_table['Export and Import Activity'].str.rstrip('47')\n",
    "    new_table['CET'] = new_table['CET'].str.rstrip('34')\n",
    "    new_table['Measure Type'] = new_table['Measure Type'].str.rstrip('56')\n",
    "    new_table['Measure Type'] = new_table['Measure Type'].map(lambda cell:cell.replace('of', ''))\n",
    "    new_table['Measure Type'] = new_table['Measure Type'].map(lambda cell:cell.replace('%', 'Percentage'))\n",
    "    new_table['Statistics'] = new_table['Statistics'].astype(str)\n",
    "    new_table['Statistics'] = new_table['Statistics'].map(lambda cell:cell.replace('+', ' Above'))\n",
    "    new_table['CET'] = new_table['CET'].str.replace('3','')\n",
    "    new_table = new_table.drop('DATAMARKER', axis=1)\n",
    "    new_table.rename(index= str, columns= {'OBS':'Value'}, inplace = True)\n",
    "    new_table = new_table[new_table['Value'] != '']\n",
    "    new_table['Year'] = new_table['Year'].apply(str)\n",
    "    new_table['Measure Type'] = new_table.apply(lambda row: user_perc(row['Measure Type']), axis = 1)\n",
    "    new_table['Value'] = new_table.apply(lambda row: user_perc2(row['Measure Type'], row['Value']), axis = 1)\n",
    "    new_table['Unit'] = new_table.apply(lambda row: user_perc7(row['Measure Type'], row['Unit']), axis = 1)\n",
    "    new_table['CET'] = new_table['CET'].map(lambda cell:cell.replace(\"Turnover   £'000s\", 'Turnover'))\n",
    "    new_table['CET'] = new_table['CET'].map(lambda cell:cell.replace('Age (years) ', 'Age of Business'))                                                                                                                           \n",
    "    new_table['Employment'] = new_table.apply(lambda row: user_perc3(row['CET'], row['Statistics']), axis = 1)\n",
    "    new_table['Country of Ownership'] = new_table.apply(lambda row: user_perc4(row['CET'], row['Statistics']), axis = 1)\n",
    "    new_table['Turnover'] = new_table.apply(lambda row: user_perc5(row['CET'], row['Statistics']), axis = 1)\n",
    "    new_table['Age of Business'] = new_table.apply(lambda row: user_perc6(row['CET'], row['Statistics']), axis = 1)\n",
    "    new_table =new_table[['Geography','Year','Export and Import Activity','Employment','Turnover','Age of Business','Country of Ownership','Measure Type','Value','Unit']]\n",
    "    Final_table = pd.concat([Final_table, new_table])\n",
    "    Final_table.to_csv(destinationFolder / ('ABS.csv'), index = False)\n"
   ]
  },
  {
   "cell_type": "code",
   "execution_count": null,
   "metadata": {},
   "outputs": [],
   "source": [
    "Final_table.head(5)"
   ]
  },
  {
   "cell_type": "code",
   "execution_count": null,
   "metadata": {},
   "outputs": [],
   "source": [
    "Final_table.tail(5)"
   ]
  },
  {
   "cell_type": "code",
   "execution_count": null,
   "metadata": {},
   "outputs": [],
   "source": []
  }
 ],
 "metadata": {
  "kernelspec": {
   "display_name": "Python 3",
   "language": "python",
   "name": "python3"
  },
  "language_info": {
   "codemirror_mode": {
    "name": "ipython",
    "version": 3
   },
   "file_extension": ".py",
   "mimetype": "text/x-python",
   "name": "python",
   "nbconvert_exporter": "python",
   "pygments_lexer": "ipython3",
   "version": "3.6.5"
  }
 },
 "nbformat": 4,
 "nbformat_minor": 2
}

{
 "cells": [
  {
   "cell_type": "markdown",
   "metadata": {},
   "source": [
    "###  ABS to Tidydata"
   ]
  },
  {
   "cell_type": "code",
   "execution_count": 1,
   "metadata": {
    "collapsed": true
   },
   "outputs": [],
   "source": [
    "from databaker.framework import *\n",
    "import pandas as pd "
   ]
  },
  {
   "cell_type": "markdown",
   "metadata": {},
   "source": [
    "ABS Excel spreadsheet is available from [ONS website](https://www.ons.gov.uk/businessindustryandtrade/business/businessservices/datasets/annualbusinesssurveyimportersandexporters)."
   ]
  },
  {
   "cell_type": "code",
   "execution_count": 2,
   "metadata": {
    "collapsed": true
   },
   "outputs": [],
   "source": [
    "import requests\n",
    "from pathlib import Path\n",
    "from io import BytesIO\n",
    "from cachecontrol import CacheControl\n",
    "from cachecontrol.caches.file_cache import FileCache\n",
    "from cachecontrol.heuristics import LastModified\n",
    "\n",
    "session = CacheControl(requests.Session(),\n",
    "                       cache=FileCache('.cache'),\n",
    "                       heuristic=LastModified())\n",
    "\n",
    "sourceFolder = Path('in')\n",
    "sourceFolder.mkdir(exist_ok=True)\n",
    "\n",
    "inputURL = 'https://www.ons.gov.uk/file?uri=/businessindustryandtrade/business/businessservices/datasets/annualbusinesssurveyimportersandexporters/current/importersandexporterssummarytablesinitial.xls'\n",
    "inputFile = sourceFolder / 'importersandexporterssummarytablesinitial.xls'\n",
    "response = session.get(inputURL)\n",
    "with open(inputFile, 'wb') as f:\n",
    "    f.write(response.content)"
   ]
  },
  {
   "cell_type": "code",
   "execution_count": 3,
   "metadata": {
    "collapsed": true
   },
   "outputs": [],
   "source": [
    "Filenames = [\n",
    "    'goods_and_services_provisional_2016',\n",
    "    'goods_provisional_2016',\n",
    "    'services_provisional_2016',\n",
    "    'goods_and_services_revised_2015',\n",
    "    'goods_revised_2015',\n",
    "    'services_revised_2015',\n",
    "    'goods_and_services_revised_final_2014',\n",
    "    'goods_revised_final_2014',\n",
    "    'services_revised_final_2014'\n",
    "]"
   ]
  },
  {
   "cell_type": "code",
   "execution_count": 4,
   "metadata": {},
   "outputs": [
    {
     "data": {
      "text/plain": [
       "'2016'"
      ]
     },
     "execution_count": 4,
     "metadata": {},
     "output_type": "execute_result"
    }
   ],
   "source": [
    "Filenames[0][-4:]"
   ]
  },
  {
   "cell_type": "code",
   "execution_count": 5,
   "metadata": {},
   "outputs": [
    {
     "name": "stdout",
     "output_type": "stream",
     "text": [
      "Loading in\\importersandexporterssummarytablesinitial.xls which has size 109867 bytes\n",
      "Table names: ['Content Page', '2016 Goods and Services', '2016 Goods ', '2016 Services  ', '2015 Goods and Services', '2015 Goods ', '2015 Services  ', '2014 Goods and Services', '2014 Goods', '2014 Services', 'Standard Errors']\n"
     ]
    }
   ],
   "source": [
    "tab_main = loadxlstabs(inputFile)"
   ]
  },
  {
   "cell_type": "code",
   "execution_count": 6,
   "metadata": {
    "collapsed": true
   },
   "outputs": [],
   "source": [
    "def user_perc(x):\n",
    "    \n",
    "    if x.strip() == 'Number':\n",
    "        return 'Count'\n",
    "    else:\n",
    "        return 'Proportion of all Business'"
   ]
  },
  {
   "cell_type": "code",
   "execution_count": 7,
   "metadata": {
    "collapsed": true
   },
   "outputs": [],
   "source": [
    "def user_perc2(x,y):\n",
    "    \n",
    "    if x.strip() == 'Count':\n",
    "        return int(y)\n",
    "    else:\n",
    "        return str(y) "
   ]
  },
  {
   "cell_type": "code",
   "execution_count": 8,
   "metadata": {
    "collapsed": true
   },
   "outputs": [],
   "source": [
    "def user_perc3(x,y):\n",
    "    \n",
    "    if (x.strip() == 'Detailed employment')|(x.strip() == 'Employment'):\n",
    "        return y\n",
    "    else:\n",
    "        return 'Total'"
   ]
  },
  {
   "cell_type": "code",
   "execution_count": 9,
   "metadata": {
    "collapsed": true
   },
   "outputs": [],
   "source": [
    "def user_perc4(x,y):\n",
    "    \n",
    "    if (x.strip() == 'Country of Ownership'):\n",
    "        return y\n",
    "    else:\n",
    "        return 'Total'"
   ]
  },
  {
   "cell_type": "code",
   "execution_count": 10,
   "metadata": {
    "collapsed": true
   },
   "outputs": [],
   "source": [
    "def user_perc5(x,y):\n",
    "    \n",
    "    if (x.strip() == 'Turnover'):\n",
    "        return y\n",
    "    else:\n",
    "        return 'Total'"
   ]
  },
  {
   "cell_type": "code",
   "execution_count": 11,
   "metadata": {
    "collapsed": true
   },
   "outputs": [],
   "source": [
    "def user_perc6(x,y):\n",
    "    \n",
    "    if (x.strip() == 'Age of Business'):\n",
    "        return y\n",
    "    else:\n",
    "        return 'Total'"
   ]
  },
  {
   "cell_type": "code",
   "execution_count": 12,
   "metadata": {
    "collapsed": true
   },
   "outputs": [],
   "source": [
    "def user_perc7(x,y):\n",
    "    \n",
    "    if x.strip() == 'Count':\n",
    "        return y\n",
    "    else:\n",
    "        return 'Percent'"
   ]
  },
  {
   "cell_type": "code",
   "execution_count": 13,
   "metadata": {},
   "outputs": [
    {
     "name": "stdout",
     "output_type": "stream",
     "text": [
      "\n",
      "\n",
      "\n",
      "\n",
      "\n",
      "\n",
      "\n",
      "\n",
      "\n"
     ]
    }
   ],
   "source": [
    "Final_table = pd.DataFrame()\n",
    "destinationFolder = Path('out')\n",
    "destinationFolder.mkdir(exist_ok=True, parents=True)\n",
    "\n",
    "for sh in list(range(0,9)):\n",
    "    \n",
    "    tab = tab_main[sh+1]\n",
    "    observations = tab.excel_ref('B14').expand(RIGHT).expand(DOWN).is_not_blank()- tab.excel_ref('B70').expand(DOWN)\n",
    "    Trade = tab.excel_ref('B12').expand(RIGHT).is_not_blank()\n",
    "    CET = tab.excel_ref('A').expand(DOWN).by_index([12,26,36,45,61]).is_not_blank()\n",
    "    segments = tab.excel_ref('A').expand(DOWN).is_not_blank()- CET - tab.excel_ref('A70').expand(DOWN)-tab.excel_ref('A10').expand(ABOVE)\n",
    "    measure = tab.excel_ref('B11:F11').expand(RIGHT).is_not_blank()\n",
    "    Dimensions = [\n",
    "                HDimConst('Geography', 'K02000001'),\n",
    "                HDimConst('Year', Filenames[sh][-4:]),\n",
    "                HDim(CET,'CET',CLOSEST,ABOVE),\n",
    "                HDim(measure,'Measure Type', CLOSEST, LEFT), \n",
    "                HDimConst('Unit', 'All Businesses'),\n",
    "                HDim(segments,'Statistics', DIRECTLY, LEFT ),\n",
    "                HDim(Trade,'Export and Import Activity',DIRECTLY,ABOVE)\n",
    "\n",
    "    ] \n",
    "    c1 = ConversionSegment(observations, Dimensions, processTIMEUNIT=True)\n",
    "    new_table = c1.topandas()\n",
    "    new_table['Export and Import Activity'] = new_table['Export and Import Activity'].str.rstrip('47')\n",
    "    new_table['CET'] = new_table['CET'].str.rstrip('34')\n",
    "    new_table['Measure Type'] = new_table['Measure Type'].str.rstrip('56')\n",
    "    new_table['Measure Type'] = new_table['Measure Type'].map(lambda cell:cell.replace('of', ''))\n",
    "    new_table['Measure Type'] = new_table['Measure Type'].map(lambda cell:cell.replace('%', 'Percentage'))\n",
    "    new_table['Statistics'] = new_table['Statistics'].astype(str)\n",
    "    new_table['Statistics'] = new_table['Statistics'].map(lambda cell:cell.replace('+', ' Above'))\n",
    "    new_table['CET'] = new_table['CET'].str.replace('3','')\n",
    "    new_table = new_table.drop('DATAMARKER', axis=1)\n",
    "    new_table.rename(index= str, columns= {'OBS':'Value'}, inplace = True)\n",
    "    new_table = new_table[new_table['Value'] != '']\n",
    "    new_table['Year'] = new_table['Year'].apply(str)\n",
    "    new_table['Measure Type'] = new_table.apply(lambda row: user_perc(row['Measure Type']), axis = 1)\n",
    "    new_table['Value'] = new_table.apply(lambda row: user_perc2(row['Measure Type'], row['Value']), axis = 1)\n",
    "    new_table['Unit'] = new_table.apply(lambda row: user_perc7(row['Measure Type'], row['Unit']), axis = 1)\n",
    "    new_table['CET'] = new_table['CET'].map(lambda cell:cell.replace(\"Turnover   £'000s\", 'Turnover'))\n",
    "    new_table['CET'] = new_table['CET'].map(lambda cell:cell.replace('Age (years) ', 'Age of Business'))                                                                                                                           \n",
    "    new_table['Employment'] = new_table.apply(lambda row: user_perc3(row['CET'], row['Statistics']), axis = 1)\n",
    "    new_table['Country of Ownership'] = new_table.apply(lambda row: user_perc4(row['CET'], row['Statistics']), axis = 1)\n",
    "    new_table['Turnover'] = new_table.apply(lambda row: user_perc5(row['CET'], row['Statistics']), axis = 1)\n",
    "    new_table['Age of Business'] = new_table.apply(lambda row: user_perc6(row['CET'], row['Statistics']), axis = 1)\n",
    "    new_table =new_table[['Geography','Year','Export and Import Activity','Employment','Turnover','Age of Business','Unit']]\n",
    "    Final_table = pd.concat([Final_table, new_table])\n",
    "    Final_table.to_csv(destinationFolder / ('ABS.csv'), index = False)\n"
   ]
  },
  {
   "cell_type": "code",
   "execution_count": 14,
   "metadata": {},
   "outputs": [
    {
     "data": {
      "text/html": [
       "<div>\n",
       "<style scoped>\n",
       "    .dataframe tbody tr th:only-of-type {\n",
       "        vertical-align: middle;\n",
       "    }\n",
       "\n",
       "    .dataframe tbody tr th {\n",
       "        vertical-align: top;\n",
       "    }\n",
       "\n",
       "    .dataframe thead th {\n",
       "        text-align: right;\n",
       "    }\n",
       "</style>\n",
       "<table border=\"1\" class=\"dataframe\">\n",
       "  <thead>\n",
       "    <tr style=\"text-align: right;\">\n",
       "      <th></th>\n",
       "      <th>Geography</th>\n",
       "      <th>Year</th>\n",
       "      <th>Export and Import Activity</th>\n",
       "      <th>Employment</th>\n",
       "      <th>Turnover</th>\n",
       "      <th>Age of Business</th>\n",
       "      <th>Measure Type</th>\n",
       "      <th>Value</th>\n",
       "      <th>Unit</th>\n",
       "    </tr>\n",
       "  </thead>\n",
       "  <tbody>\n",
       "    <tr>\n",
       "      <th>0</th>\n",
       "      <td>K02000001</td>\n",
       "      <td>2016</td>\n",
       "      <td>Businesses</td>\n",
       "      <td>1</td>\n",
       "      <td>Total</td>\n",
       "      <td>Total</td>\n",
       "      <td>Count</td>\n",
       "      <td>1087600</td>\n",
       "      <td>All Businesses</td>\n",
       "    </tr>\n",
       "    <tr>\n",
       "      <th>1</th>\n",
       "      <td>K02000001</td>\n",
       "      <td>2016</td>\n",
       "      <td>Exporters</td>\n",
       "      <td>1</td>\n",
       "      <td>Total</td>\n",
       "      <td>Total</td>\n",
       "      <td>Count</td>\n",
       "      <td>65900</td>\n",
       "      <td>All Businesses</td>\n",
       "    </tr>\n",
       "    <tr>\n",
       "      <th>2</th>\n",
       "      <td>K02000001</td>\n",
       "      <td>2016</td>\n",
       "      <td>Importers</td>\n",
       "      <td>1</td>\n",
       "      <td>Total</td>\n",
       "      <td>Total</td>\n",
       "      <td>Count</td>\n",
       "      <td>55800</td>\n",
       "      <td>All Businesses</td>\n",
       "    </tr>\n",
       "    <tr>\n",
       "      <th>3</th>\n",
       "      <td>K02000001</td>\n",
       "      <td>2016</td>\n",
       "      <td>Exporter and Importer</td>\n",
       "      <td>1</td>\n",
       "      <td>Total</td>\n",
       "      <td>Total</td>\n",
       "      <td>Count</td>\n",
       "      <td>25200</td>\n",
       "      <td>All Businesses</td>\n",
       "    </tr>\n",
       "    <tr>\n",
       "      <th>4</th>\n",
       "      <td>K02000001</td>\n",
       "      <td>2016</td>\n",
       "      <td>Exporter and/or Importer</td>\n",
       "      <td>1</td>\n",
       "      <td>Total</td>\n",
       "      <td>Total</td>\n",
       "      <td>Count</td>\n",
       "      <td>96500</td>\n",
       "      <td>All Businesses</td>\n",
       "    </tr>\n",
       "  </tbody>\n",
       "</table>\n",
       "</div>"
      ],
      "text/plain": [
       "   Geography  Year Export and Import Activity Employment Turnover  \\\n",
       "0  K02000001  2016                Businesses           1    Total   \n",
       "1  K02000001  2016                  Exporters          1    Total   \n",
       "2  K02000001  2016                  Importers          1    Total   \n",
       "3  K02000001  2016      Exporter and Importer          1    Total   \n",
       "4  K02000001  2016  Exporter and/or Importer           1    Total   \n",
       "\n",
       "  Age of Business Measure Type    Value            Unit  \n",
       "0           Total        Count  1087600  All Businesses  \n",
       "1           Total        Count    65900  All Businesses  \n",
       "2           Total        Count    55800  All Businesses  \n",
       "3           Total        Count    25200  All Businesses  \n",
       "4           Total        Count    96500  All Businesses  "
      ]
     },
     "execution_count": 14,
     "metadata": {},
     "output_type": "execute_result"
    }
   ],
   "source": [
    "Final_table.head(5)"
   ]
  },
  {
   "cell_type": "code",
   "execution_count": 15,
   "metadata": {},
   "outputs": [
    {
     "data": {
      "text/html": [
       "<div>\n",
       "<style scoped>\n",
       "    .dataframe tbody tr th:only-of-type {\n",
       "        vertical-align: middle;\n",
       "    }\n",
       "\n",
       "    .dataframe tbody tr th {\n",
       "        vertical-align: top;\n",
       "    }\n",
       "\n",
       "    .dataframe thead th {\n",
       "        text-align: right;\n",
       "    }\n",
       "</style>\n",
       "<table border=\"1\" class=\"dataframe\">\n",
       "  <thead>\n",
       "    <tr style=\"text-align: right;\">\n",
       "      <th></th>\n",
       "      <th>Geography</th>\n",
       "      <th>Year</th>\n",
       "      <th>Export and Import Activity</th>\n",
       "      <th>Employment</th>\n",
       "      <th>Turnover</th>\n",
       "      <th>Age of Business</th>\n",
       "      <th>Measure Type</th>\n",
       "      <th>Value</th>\n",
       "      <th>Unit</th>\n",
       "    </tr>\n",
       "  </thead>\n",
       "  <tbody>\n",
       "    <tr>\n",
       "      <th>318</th>\n",
       "      <td>K02000001</td>\n",
       "      <td>2014</td>\n",
       "      <td>Exporter and/or Importer</td>\n",
       "      <td>Total</td>\n",
       "      <td>Total</td>\n",
       "      <td>Total</td>\n",
       "      <td>Count</td>\n",
       "      <td>177800</td>\n",
       "      <td>All Businesses</td>\n",
       "    </tr>\n",
       "    <tr>\n",
       "      <th>319</th>\n",
       "      <td>K02000001</td>\n",
       "      <td>2014</td>\n",
       "      <td>Exporters</td>\n",
       "      <td>Total</td>\n",
       "      <td>Total</td>\n",
       "      <td>Total</td>\n",
       "      <td>Proportion of all Business</td>\n",
       "      <td>7.0</td>\n",
       "      <td>Percent</td>\n",
       "    </tr>\n",
       "    <tr>\n",
       "      <th>320</th>\n",
       "      <td>K02000001</td>\n",
       "      <td>2014</td>\n",
       "      <td>Importers</td>\n",
       "      <td>Total</td>\n",
       "      <td>Total</td>\n",
       "      <td>Total</td>\n",
       "      <td>Proportion of all Business</td>\n",
       "      <td>4.8</td>\n",
       "      <td>Percent</td>\n",
       "    </tr>\n",
       "    <tr>\n",
       "      <th>321</th>\n",
       "      <td>K02000001</td>\n",
       "      <td>2014</td>\n",
       "      <td>Exporter and Importer</td>\n",
       "      <td>Total</td>\n",
       "      <td>Total</td>\n",
       "      <td>Total</td>\n",
       "      <td>Proportion of all Business</td>\n",
       "      <td>3.1</td>\n",
       "      <td>Percent</td>\n",
       "    </tr>\n",
       "    <tr>\n",
       "      <th>322</th>\n",
       "      <td>K02000001</td>\n",
       "      <td>2014</td>\n",
       "      <td>Exporter and/or Importer</td>\n",
       "      <td>Total</td>\n",
       "      <td>Total</td>\n",
       "      <td>Total</td>\n",
       "      <td>Proportion of all Business</td>\n",
       "      <td>8.7</td>\n",
       "      <td>Percent</td>\n",
       "    </tr>\n",
       "  </tbody>\n",
       "</table>\n",
       "</div>"
      ],
      "text/plain": [
       "     Geography  Year Export and Import Activity Employment Turnover  \\\n",
       "318  K02000001  2014  Exporter and/or Importer       Total    Total   \n",
       "319  K02000001  2014                  Exporters      Total    Total   \n",
       "320  K02000001  2014                  Importers      Total    Total   \n",
       "321  K02000001  2014      Exporter and Importer      Total    Total   \n",
       "322  K02000001  2014  Exporter and/or Importer       Total    Total   \n",
       "\n",
       "    Age of Business                Measure Type   Value            Unit  \n",
       "318           Total                       Count  177800  All Businesses  \n",
       "319           Total  Proportion of all Business     7.0         Percent  \n",
       "320           Total  Proportion of all Business     4.8         Percent  \n",
       "321           Total  Proportion of all Business     3.1         Percent  \n",
       "322           Total  Proportion of all Business     8.7         Percent  "
      ]
     },
     "execution_count": 15,
     "metadata": {},
     "output_type": "execute_result"
    }
   ],
   "source": [
    "Final_table.tail(5)"
   ]
  },
  {
   "cell_type": "code",
   "execution_count": null,
   "metadata": {
    "collapsed": true
   },
   "outputs": [],
   "source": []
  }
 ],
 "metadata": {
  "kernelspec": {
   "display_name": "Python 3",
   "language": "python",
   "name": "python3"
  },
  "language_info": {
   "codemirror_mode": {
    "name": "ipython",
    "version": 3
   },
   "file_extension": ".py",
   "mimetype": "text/x-python",
   "name": "python",
   "nbconvert_exporter": "python",
   "pygments_lexer": "ipython3",
   "version": "3.6.3"
  }
 },
 "nbformat": 4,
 "nbformat_minor": 2
}

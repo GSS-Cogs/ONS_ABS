{
 "cells": [
  {
   "cell_type": "markdown",
   "metadata": {},
   "source": [
    "###  ABS to Tidydata"
   ]
  },
  {
   "cell_type": "code",
   "execution_count": 1,
   "metadata": {
    "collapsed": true
   },
   "outputs": [],
   "source": [
    "from databaker.framework import *"
   ]
  },
  {
   "cell_type": "code",
   "execution_count": 2,
   "metadata": {
    "collapsed": true
   },
   "outputs": [],
   "source": [
    "import pandas as pd "
   ]
  },
  {
   "cell_type": "code",
   "execution_count": 3,
   "metadata": {
    "collapsed": true
   },
   "outputs": [],
   "source": [
    "inputFile = 'importersandexporterssummarytablesinitial.xls'"
   ]
  },
  {
   "cell_type": "code",
   "execution_count": 12,
   "metadata": {
    "collapsed": true
   },
   "outputs": [],
   "source": [
    "Filenames = ['Exporters and Importers of Goods and or Services - Provisional 2016',\t\t\t\t\t\t\t\t\t\t\n",
    "'Exporters and Importers of Goods - Provisional 2016',\t\t\t\t\t\t\t\t\t\t\t\n",
    "'Exporters and Importers of Services - Provisional 2016',\t\t\t\t\t\t\n",
    "\n",
    "'Exporters and Importers of Goods and or Services - Revised 2015',\t\t\t\t\t\t\t\t\t\t\t\n",
    "'Exporters and Importers of Goods - Revised 2015',\t\t\t\t\t\t\t\t\t\t\t\n",
    "'Exporters and Importers of Services - Revised 2015',\t\t\t\t\t\t\t\t\t\t\t\n",
    "\n",
    "'Exporters and Importers of Goods and or Services - Revised Final 2014',\t\t\t\t\t\t\t\t\t\n",
    "'Exporters and Importers of Goods - Revised Final 2014',\t\t\t\t\t\t\t\t\t\t\n",
    "'Exporters and Importers of Services - Revised Final 2014'\t]"
   ]
  },
  {
   "cell_type": "code",
   "execution_count": 13,
   "metadata": {},
   "outputs": [
    {
     "name": "stdout",
     "output_type": "stream",
     "text": [
      "Loading importersandexporterssummarytablesinitial.xls which has size 109867 bytes\n",
      "Table names: ['Content Page', '2016 Goods and Services', '2016 Goods ', '2016 Services  ', '2015 Goods and Services', '2015 Goods ', '2015 Services  ', '2014 Goods and Services', '2014 Goods', '2014 Services', 'Standard Errors']\n"
     ]
    }
   ],
   "source": [
    "tab_main = loadxlstabs(inputFile)"
   ]
  },
  {
   "cell_type": "code",
   "execution_count": 14,
   "metadata": {},
   "outputs": [
    {
     "name": "stdout",
     "output_type": "stream",
     "text": [
      "TIMEUNIT='Year'\n",
      "TIMEUNIT='Year'\n",
      "TIMEUNIT='Year'\n",
      "TIMEUNIT='Year'\n",
      "TIMEUNIT='Year'\n",
      "TIMEUNIT='Year'\n",
      "TIMEUNIT='Year'\n",
      "TIMEUNIT='Year'\n",
      "TIMEUNIT='Year'\n"
     ]
    }
   ],
   "source": [
    "for sh in list(range(0,9)):\n",
    "    \n",
    "    tab = tab_main[sh+1]\n",
    "    observations = tab.excel_ref('B14').expand(RIGHT).expand(DOWN).is_not_blank()- tab.excel_ref('B70').expand(DOWN)\n",
    "    Trade = tab.excel_ref('B12').expand(RIGHT).is_not_blank()\n",
    "    CET = tab.excel_ref('A').expand(DOWN).by_index([12,26,36,45,61]).is_not_blank()\n",
    "    segments = tab.excel_ref('A').expand(DOWN).is_not_blank()- CET - tab.excel_ref('A70').expand(DOWN)-tab.excel_ref('A10').expand(ABOVE)\n",
    "    measure = tab.excel_ref('B11:F11').expand(RIGHT).is_not_blank()\n",
    "    Dimensions = [\n",
    "                HDimConst('Geography', 'K02000001'),\n",
    "                HDimConst('TIME', '2016'),\n",
    "                HDim(CET,'Count, Employment and Turnover',CLOSEST,ABOVE),\n",
    "                HDim(measure,'Measure', CLOSEST, LEFT), \n",
    "                HDim(segments,'Statistics', DIRECTLY, LEFT ),\n",
    "                HDim(Trade,'Flow',DIRECTLY,ABOVE)\n",
    "\n",
    "    ] \n",
    "    c1 = ConversionSegment(observations, Dimensions, processTIMEUNIT=True)\n",
    "    new_table = c1.topandas()\n",
    "    new_table['Flow'] = new_table['Flow'].str.rstrip('47')\n",
    "    new_table['Count, Employment and Turnover'] = new_table['Count, Employment and Turnover'].str.rstrip('34')\n",
    "    new_table['Measure'] = new_table['Measure'].str.rstrip('56')\n",
    "    new_table['Measure'] = new_table['Measure'].map(lambda cell:cell.replace('of', ''))\n",
    "    new_table['Measure'] = new_table['Measure'].map(lambda cell:cell.replace('%', 'Percentage'))\n",
    "    new_table['Statistics'] = new_table['Statistics'].astype(str)\n",
    "    new_table['Statistics'] = new_table['Statistics'].map(lambda cell:cell.replace('+', ' Above'))\n",
    "    new_table['Count, Employment and Turnover'] = new_table['Count, Employment and Turnover'].str.replace('3','')\n",
    "    new_table['Period'] = new_table['TIMEUNIT'].map(str) + '/' + new_table['TIME']\n",
    "    new_table = new_table.drop('TIMEUNIT', axis=1)\n",
    "    new_table = new_table.drop('DATAMARKER', axis=1)\n",
    "    new_table = new_table.drop('TIME', axis=1)\n",
    "    new_table = new_table[new_table['OBS'] != '']\n",
    "    new_table =new_table[['Geography','Period','Flow','Count, Employment and Turnover','Statistics','OBS','Measure']]\n",
    "    new_table.to_csv('C:\\\\Users\\\\vamsi\\\\Desktop\\\\Gdrive\\\\Out\\\\Mret\\\\'+Filenames[sh]+'.csv', index = False)\n"
   ]
  }
 ],
 "metadata": {
  "kernelspec": {
   "display_name": "Python 3",
   "language": "python",
   "name": "python3"
  },
  "language_info": {
   "codemirror_mode": {
    "name": "ipython",
    "version": 3
   },
   "file_extension": ".py",
   "mimetype": "text/x-python",
   "name": "python",
   "nbconvert_exporter": "python",
   "pygments_lexer": "ipython3",
   "version": "3.6.3"
  }
 },
 "nbformat": 4,
 "nbformat_minor": 2
}
